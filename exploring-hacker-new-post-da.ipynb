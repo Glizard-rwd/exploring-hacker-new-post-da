{
 "cells": [
  {
   "cell_type": "markdown",
   "source": [
    "## EXPLORING HACKER NEW POST\n",
    "### Programming objectives:\n",
    "- Work with String data\n",
    "- Observe Object-Oriented programming\n",
    "- Understand date and time data\n",
    "### Data objectives:\n",
    "In this project we will work with Hacker New Post website dataset\n",
    "We initially will check the post title beginning with \"Ask HN\" or \"Show HN\". \"Ask HN\" - user summit specific question, while \"Show HN\" - show something interesting (products, projects, etc)\n",
    "Our task is compare 2 kinds of posts and determine:\n",
    "    - Do \"Show HN\" or \"Task HN\" receive more comments ?\n",
    "    - Do posts created at a certain time receive more comments on average?"
   ],
   "metadata": {
    "collapsed": false
   }
  },
  {
   "cell_type": "markdown",
   "source": [
    "#### Remove the row containing column headers"
   ],
   "metadata": {
    "collapsed": false
   }
  },
  {
   "cell_type": "code",
   "execution_count": 1,
   "outputs": [
    {
     "name": "stdout",
     "output_type": "stream",
     "text": [
      "['id', 'title', 'url', 'num_points', 'num_comments', 'author', 'created_at']\n",
      "[['12224879', 'Interactive Dynamic Video', 'http://www.interactivedynamicvideo.com/', '386', '52', 'ne0phyte', '8/4/2016 11:52'], ['10975351', 'How to Use Open Source and Shut the Fuck Up at the Same Time', 'http://hueniverse.com/2016/01/26/how-to-use-open-source-and-shut-the-fuck-up-at-the-same-time/', '39', '10', 'josep2', '1/26/2016 19:30'], ['11964716', \"Florida DJs May Face Felony for April Fools' Water Joke\", 'http://www.thewire.com/entertainment/2013/04/florida-djs-april-fools-water-joke/63798/', '2', '1', 'vezycash', '6/23/2016 22:20'], ['11919867', 'Technology ventures: From Idea to Enterprise', 'https://www.amazon.com/Technology-Ventures-Enterprise-Thomas-Byers/dp/0073523429', '3', '1', 'hswarna', '6/17/2016 0:01'], ['10301696', 'Note by Note: The Making of Steinway L1037 (2007)', 'http://www.nytimes.com/2007/11/07/movies/07stein.html?_r=0', '8', '2', 'walterbell', '9/30/2015 4:12']]\n"
     ]
    }
   ],
   "source": [
    "# Open the file and assign as \"hn\"\n",
    "from csv import reader\n",
    "\n",
    "def open_file(file):\n",
    "    o_file = open(file)\n",
    "    r_file = reader(o_file)\n",
    "    l_file = list(r_file)\n",
    "    return l_file\n",
    "\n",
    "hn = open_file(\"hacker_news.csv\")\n",
    "# remove header from list to analyze\n",
    "hn_header = hn[0]\n",
    "print(hn_header)\n",
    "hn = hn[1:]\n",
    "print(hn[:5])"
   ],
   "metadata": {
    "collapsed": false
   }
  },
  {
   "cell_type": "markdown",
   "source": [
    "#### Extracting Ask HN and Show HN posts"
   ],
   "metadata": {
    "collapsed": false
   }
  },
  {
   "cell_type": "code",
   "execution_count": 2,
   "outputs": [
    {
     "name": "stdout",
     "output_type": "stream",
     "text": [
      "Number of ask posts:  1744\n",
      "Number of show posts:  1162\n",
      "Number of other posts:  17194\n"
     ]
    }
   ],
   "source": [
    "# Collect post title starting with \"Ask HN\" and \"Show HN\" and other posts then group them in separated lists\n",
    "ask_posts, show_posts, other_posts = [], [], []\n",
    "for post in hn:\n",
    "    title = post[hn_header.index(\"title\")].lower()\n",
    "    if title.startswith(\"show hn\"):\n",
    "        show_posts.append(post)\n",
    "    elif title.startswith(\"ask hn\"):\n",
    "        ask_posts.append(post)\n",
    "    else:\n",
    "        other_posts.append(post)\n",
    "\n",
    "print(\"Number of ask posts: \", len(ask_posts))\n",
    "print(\"Number of show posts: \", len(show_posts))\n",
    "print(\"Number of other posts: \", len(other_posts))"
   ],
   "metadata": {
    "collapsed": false
   }
  },
  {
   "cell_type": "markdown",
   "source": [
    "#### Calculate average number of comments for Ask HN and show HN post\n",
    "To determine if ask posts or show posts receive more comments on average."
   ],
   "metadata": {
    "collapsed": false
   }
  },
  {
   "cell_type": "code",
   "execution_count": 3,
   "outputs": [
    {
     "name": "stdout",
     "output_type": "stream",
     "text": [
      "Average comments in each ask post:  14.038417431192661\n",
      "Average comments in each show post:  10.31669535283993\n",
      "Conclusion: ask post normally receives more comments.\n"
     ]
    }
   ],
   "source": [
    "# Average ask post comments\n",
    "total_ask_comments = 0\n",
    "for post in ask_posts:\n",
    "    comments_num = int(post[hn_header.index(\"num_comments\")])\n",
    "    total_ask_comments += comments_num\n",
    "\n",
    "print(\"Average comments in each ask post: \", total_ask_comments / len(ask_posts))\n",
    "\n",
    "total_show_comments = 0\n",
    "for post in show_posts:\n",
    "    comments_num = int(post[hn_header.index(\"num_comments\")])\n",
    "    total_show_comments += comments_num\n",
    "print(\"Average comments in each show post: \", total_show_comments / len(show_posts))\n",
    "print(\"Conclusion: ask post normally receives more comments.\")"
   ],
   "metadata": {
    "collapsed": false
   }
  },
  {
   "cell_type": "markdown",
   "source": [
    "#### Finding the Amount of Ask Posts and Comments by Hour Created\n",
    "Focus on only Ask post and analyze certain times ask post receive more comments"
   ],
   "metadata": {
    "collapsed": false
   }
  },
  {
   "cell_type": "code",
   "execution_count": 21,
   "outputs": [
    {
     "data": {
      "text/plain": "{'09': 251,\n '13': 1253,\n '10': 793,\n '14': 1416,\n '16': 1814,\n '23': 543,\n '12': 687,\n '17': 1146,\n '15': 4477,\n '21': 1745,\n '20': 1722,\n '02': 1381,\n '18': 1439,\n '03': 421,\n '05': 464,\n '19': 1188,\n '01': 683,\n '22': 479,\n '08': 492,\n '04': 337,\n '00': 447,\n '06': 397,\n '07': 267,\n '11': 641}"
     },
     "execution_count": 21,
     "metadata": {},
     "output_type": "execute_result"
    }
   ],
   "source": [
    "import datetime as dt\n",
    "# collect the time (created_at) column and number of comments (num_comments) from original dataset\n",
    "result_list = []\n",
    "for post in ask_posts:\n",
    "    result_list.append([post[6], int(post[4])])\n",
    "\n",
    "# Extract hour from date\n",
    "comment_by_hour = {} # number of comment by hour\n",
    "count_by_hour = {} # number of post by hour\n",
    "date_format = \"%m/%d/%Y %H:%M\"\n",
    "\n",
    "for post in result_list:\n",
    "    date, comment = post[0], post[1] # declare date and number of comments\n",
    "    time = dt.datetime.strptime(date, date_format).strftime(\"%H\") # extract hour from date\n",
    "    if time in count_by_hour:\n",
    "        comment_by_hour[time] += comment\n",
    "        count_by_hour[time] += 1\n",
    "    else:\n",
    "        comment_by_hour[time] = comment\n",
    "        count_by_hour[time] = 1\n",
    "\n",
    "comment_by_hour"
   ],
   "metadata": {
    "collapsed": false
   }
  },
  {
   "cell_type": "markdown",
   "source": [
    "#### Average number of comments for Ask HN post by hour"
   ],
   "metadata": {
    "collapsed": false
   }
  },
  {
   "cell_type": "code",
   "execution_count": 30,
   "outputs": [
    {
     "name": "stdout",
     "output_type": "stream",
     "text": [
      "Top 5 hours for Ask Post comments\n",
      "15:00:38.59 average comments per post\n",
      "02:00:23.81 average comments per post\n",
      "20:00:21.52 average comments per post\n",
      "16:00:16.80 average comments per post\n",
      "21:00:16.01 average comments per post\n"
     ]
    }
   ],
   "source": [
    "# calculate average number of comments on each post in particular time\n",
    "avg_by_hour = []\n",
    "for hour in comment_by_hour:\n",
    "    avg_by_hour.append([hour, comment_by_hour[hour]/ count_by_hour[hour]]) # number of comments/ number of posts per hour\n",
    "\n",
    "avg_by_hour[:5]\n",
    "\n",
    "# sort\n",
    "avg_by_hour_1 = [[row[1], row[0]] for row in avg_by_hour]\n",
    "avg_by_hour_1 = sorted(avg_by_hour_1, reverse=True)\n",
    "avg_by_hour_1\n",
    "print(\"Top 5 hours for Ask Post comments\")\n",
    "for avg, time in avg_by_hour_1[:5]:\n",
    "    hour = dt.datetime.strptime(time, \"%H\").strftime(\"%H:%M\")\n",
    "    print(\"{}:{:.2f} average comments per post\".format(hour, avg))"
   ],
   "metadata": {
    "collapsed": false
   }
  }
 ],
 "metadata": {
  "kernelspec": {
   "display_name": "Python 3",
   "language": "python",
   "name": "python3"
  },
  "language_info": {
   "codemirror_mode": {
    "name": "ipython",
    "version": 2
   },
   "file_extension": ".py",
   "mimetype": "text/x-python",
   "name": "python",
   "nbconvert_exporter": "python",
   "pygments_lexer": "ipython2",
   "version": "2.7.6"
  }
 },
 "nbformat": 4,
 "nbformat_minor": 0
}
